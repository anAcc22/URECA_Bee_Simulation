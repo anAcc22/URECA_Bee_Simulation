{
 "cells": [
  {
   "cell_type": "code",
   "execution_count": 22,
   "id": "3eb42b66-076c-488c-9c06-ce053cd26a65",
   "metadata": {},
   "outputs": [],
   "source": [
    "import json\n",
    "import scipy\n",
    "import numpy as np\n",
    "import pandas as pd\n",
    "import seaborn as sns\n",
    "import matplotlib.pyplot as plt\n",
    "from functools import cmp_to_key\n",
    "\n",
    "sns.set_theme(font='Fira Code', font_scale=0.8, style='whitegrid')\n",
    "sns.set_style({'grid.linestyle': ':'})"
   ]
  },
  {
   "cell_type": "code",
   "execution_count": 4,
   "id": "cb1fa780-67cf-461f-8b88-63c1e1ab3d2d",
   "metadata": {},
   "outputs": [],
   "source": [
    "def get_filename(crawl, climb, size, mass, count):\n",
    "    return f'../data/crawl_{crawl}_climb_{climb}_size_{size}_mass_{mass}_cnt_{count}.json';"
   ]
  },
  {
   "cell_type": "code",
   "execution_count": 105,
   "id": "327f436a-5090-41c7-a455-4ff20bb27813",
   "metadata": {},
   "outputs": [],
   "source": [
    "crawl, climb, size, mass, count = '0.2', '0.2', '0', '0', 100"
   ]
  },
  {
   "cell_type": "code",
   "execution_count": 106,
   "id": "02b174cf-8a57-428d-91a6-f88da81bca58",
   "metadata": {},
   "outputs": [],
   "source": [
    "filename = get_filename(crawl, climb, size, mass, count)\n",
    "with open(filename, 'r') as file:\n",
    "        data = json.load(file)\n",
    "points = data['points']"
   ]
  },
  {
   "cell_type": "code",
   "execution_count": 9,
   "id": "3fc4bce0-dd6e-451a-a65c-d281a8f44675",
   "metadata": {},
   "outputs": [],
   "source": [
    "def equal(a, b):\n",
    "    return a['x'] == b['x'] and a['y'] == b['y']"
   ]
  },
  {
   "cell_type": "code",
   "execution_count": 11,
   "id": "3cb5739b-8654-4beb-b6c2-ab3093798025",
   "metadata": {},
   "outputs": [],
   "source": [
    "def orientation(a, b, c):\n",
    "    v = a['x']*(b['y']-c['y']) + b['x']*(c['y']-a['y']) + c['x']*(a['y']-b['y'])\n",
    "    if v < 0:\n",
    "        return -1\n",
    "    if v > 0:\n",
    "        return 1\n",
    "    return 0;"
   ]
  },
  {
   "cell_type": "code",
   "execution_count": 13,
   "id": "709e7e31-3f86-4d26-81f7-9ecaf7bd5f2c",
   "metadata": {},
   "outputs": [],
   "source": [
    "def cw(a, b, c):\n",
    "    return orientation(a, b, c) < 0"
   ]
  },
  {
   "cell_type": "code",
   "execution_count": 95,
   "id": "003c6ce9-ac0b-453b-9b4b-eb699e643668",
   "metadata": {},
   "outputs": [],
   "source": [
    "def convex_hull(a):\n",
    "    p0 = a[0]\n",
    "    \n",
    "    for pt in a:\n",
    "        if pt['y'] > p0['y']:\n",
    "            continue;\n",
    "        if pt['y'] == p0['y']:\n",
    "            p0['x'] = min(p0['x'], pt['x'])\n",
    "        else:\n",
    "            p0 = pt\n",
    "            \n",
    "    def compare(a, b):\n",
    "        o = orientation(p0, a, b)\n",
    "        if o == 0:\n",
    "            l = (p0['x']-a['x'])*(p0['x']-a['x']) + (p0['y']-a['y'])*(p0['y']-a['y'])\n",
    "            r = (p0['x']-b['x'])*(p0['x']-b['x']) + (p0['y']-b['y'])*(p0['y']-b['y'])\n",
    "            return l - r\n",
    "        return -1 if o < 0 else 1\n",
    "        \n",
    "    a = sorted(a, key=cmp_to_key(compare))\n",
    "    st = []\n",
    "    \n",
    "    for pt in a:\n",
    "        while len(st) >= 2 and not cw(st[-2], st[-1], pt):\n",
    "            st.pop()\n",
    "        st.append(pt)\n",
    "        \n",
    "    if len(st) == 2 and st[0] == st[1]:\n",
    "        st.pop()\n",
    "        \n",
    "    return st[::]"
   ]
  },
  {
   "cell_type": "code",
   "execution_count": 107,
   "id": "15e42ead-0665-4550-a5aa-a6d7989fbeef",
   "metadata": {},
   "outputs": [],
   "source": [
    "ch_points = convex_hull(points)\n",
    "\n",
    "y_thresh = 20\n",
    "\n",
    "min_x = min(point['x'] for point in data['points'] if point['y'] < y_thresh)\n",
    "max_x = max(point['x'] for point in data['points'] if point['y'] < y_thresh)\n",
    "\n",
    "ch_points = list(filter(lambda pt: pt['y'] >= y_thresh or pt['x'] <= min_x or pt['x'] >= max_x, ch_points))"
   ]
  },
  {
   "cell_type": "code",
   "execution_count": 108,
   "id": "33e7b272-8753-47e8-9d6c-a78082a54dcc",
   "metadata": {},
   "outputs": [],
   "source": [
    "rows = []\n",
    "\n",
    "max_x = max([point['x'] for point in data['points']])\n",
    "min_x = min([point['x'] for point in data['points']])\n",
    "\n",
    "halved = (max_x - min_x) / 2\n",
    "\n",
    "for i in range(len(points)):\n",
    "    on_hull = False\n",
    "    if points[i] in ch_points:\n",
    "        on_hull = True\n",
    "    rows.append([points[i]['x']-halved, -points[i]['y'], 'Yes' if on_hull else 'No'])\n",
    "    \n",
    "df = pd.DataFrame(rows, columns=['x', 'y', 'On Hull'])\n",
    "\n",
    "rows = [];\n",
    "\n",
    "for i in range(len(ch_points)):\n",
    "    rows.append([ch_points[i]['x']-halved, -ch_points[i]['y'], 'Yes'])\n",
    "\n",
    "df_hull = pd.DataFrame(rows, columns=['x', 'y', 'On Hull'])"
   ]
  },
  {
   "cell_type": "code",
   "execution_count": 109,
   "id": "963d4eff-501c-400f-b950-aa6c0b21506d",
   "metadata": {},
   "outputs": [
    {
     "data": {
      "image/png": "[encoded data removed]",
      "text/plain": [
       "<Figure size 600x400 with 1 Axes>"
      ]
     },
     "metadata": {},
     "output_type": "display_data"
    }
   ],
   "source": [
    "palette_duo = [\"#878c2a\", \"#e8edbf\"]\n",
    "\n",
    "first_no = df['On Hull'][0] == 'No'\n",
    "\n",
    "if first_no:\n",
    "    palette_duo = palette_duo[::-1]\n",
    "\n",
    "plt.figure(figsize=(6, 4))\n",
    "ax = sns.scatterplot(x='x', y='y', data=df, hue='On Hull', palette=palette_duo, legend=False, alpha=0.8, size=4)\n",
    "sns.lineplot(x='x', y='y', data=df_hull, c=palette_duo[1] if first_no else palette_duo[0], alpha=0.8, size=4, linestyle='--')\n",
    "\n",
    "ax.set_xlim([-500, 500])\n",
    "ax.set_ylim([-666, 0])\n",
    "\n",
    "ax.set_xticklabels([])\n",
    "ax.set_yticklabels([])\n",
    "\n",
    "ax.set(xlabel=None)\n",
    "ax.set(ylabel=None)\n",
    "\n",
    "plt.show()"
   ]
  },
  {
   "cell_type": "code",
   "execution_count": null,
   "id": "85651167-4f9b-4128-891e-0894ee0d1c0d",
   "metadata": {},
   "outputs": [],
   "source": []
  }
 ],
 "metadata": {
  "kernelspec": {
   "display_name": "Python 3 (ipykernel)",
   "language": "python",
   "name": "python3"
  },
  "language_info": {
   "codemirror_mode": {
    "name": "ipython",
    "version": 3
   },
   "file_extension": ".py",
   "mimetype": "text/x-python",
   "name": "python",
   "nbconvert_exporter": "python",
   "pygments_lexer": "ipython3",
   "version": "3.13.3"
  }
 },
 "nbformat": 4,
 "nbformat_minor": 5
}
